{
 "cells": [
  {
   "attachments": {},
   "cell_type": "markdown",
   "metadata": {},
   "source": [
    "# Packaging and Deployment\n",
    "\n",
    "In this exercise we will be covering the basic components of the flower federated learning package. We will build a basic client, that can interface with our live server. We will also package the client.\n",
    "\n",
    "We will complete the following steps:  \n",
    "\n",
    "    1.  Write a basic client\n",
    "    2.  Dockerize the client\n",
    "    3.  Deploy and run federated learning rounds with (hopefully) all workshop participants!\n",
    "\n",
    "## Writing a basic client\n",
    "\n",
    "The client is flower's abstract class that executes the code on the edge. It runs code to train the local model, updates the model parameters from parameters received from the server and runs evaluations on local data. Because the client is an abstract class, some methods do not have a default implementation. These methods are the methods that define how the local model is trained and how parameter updates get sent from the edge to the server.\n",
    "\n",
    "\n",
    "\n",
    "**def get_parameters(self, config) -> List:** defines how parameters are extracted from the edge model and how they are sent back to the server. Our server already exists, and expects parameters in a two-dimensional list format, with the format being \\[coefficients (NDArrays), intercept (NDArrays)\\]. The config parameter is mandatory in this method, but we will not use it in our implementation. Configuration parameters requested by the server. This can be used to tell the client which parameters are needed along with some Scalar attributes.\n",
    "\n",
    "**def fit(self, parameters, config): -> List, Integer, Dict** defines how the model will be refit, using the parameters passed by the server. The parameters argument is passed by the global (server) model. Configuration parameters allow the server to influence training on the client. It can be used to communicate arbitrary values from the server to the client, for example, to set the number of (local) training epochs. It returns the following three outputs: \n",
    "\n",
    "    parameters (NDArrays) – The locally updated model parameters.\n",
    "    num_examples (int) – The number of examples used for training.\n",
    "    metrics (Dict[str, Scalar]) – A dictionary mapping arbitrary string keys to values of type bool, bytes, float, int, or str. It can be used to communicate arbitrary values back to the server.\n",
    "\n",
    "**def evaluate(self, parameters, config):** Evaluate the provided parameters using the locally held dataset. Returns these outputs:\n",
    "\n",
    "    loss (float) – The evaluation loss of the model on the local dataset.\n",
    "    num_examples (int) – The number of examples used for evaluation.\n",
    "    metrics (Dict[str, Scalar]) – A dictionary mapping arbitrary string keys to values of type bool, bytes, float, int, or str. It can be used to communicate arbitrary values back to the server.\n",
    "\n",
    "We have already written a client class below, with the skeleton methods. Implement these methods, and when you're down scroll down this notebook to find the second exercise."
   ]
  },
  {
   "cell_type": "code",
   "execution_count": 2,
   "metadata": {},
   "outputs": [
    {
     "ename": "ModuleNotFoundError",
     "evalue": "No module named 'workshop'",
     "output_type": "error",
     "traceback": [
      "\u001b[0;31m---------------------------------------------------------------------------\u001b[0m",
      "\u001b[0;31mModuleNotFoundError\u001b[0m                       Traceback (most recent call last)",
      "Cell \u001b[0;32mIn[2], line 5\u001b[0m\n\u001b[1;32m      3\u001b[0m \u001b[39mimport\u001b[39;00m \u001b[39mflwr\u001b[39;00m \u001b[39mas\u001b[39;00m \u001b[39mfl\u001b[39;00m\n\u001b[1;32m      4\u001b[0m \u001b[39mfrom\u001b[39;00m \u001b[39msklearn\u001b[39;00m\u001b[39m.\u001b[39;00m\u001b[39mdatasets\u001b[39;00m \u001b[39mimport\u001b[39;00m fetch_california_housing\n\u001b[0;32m----> 5\u001b[0m \u001b[39mfrom\u001b[39;00m \u001b[39mworkshop\u001b[39;00m\u001b[39m.\u001b[39;00m\u001b[39mclient\u001b[39;00m\u001b[39m.\u001b[39;00m\u001b[39mclient\u001b[39;00m \u001b[39mimport\u001b[39;00m partition\n\u001b[1;32m      6\u001b[0m \u001b[39mfrom\u001b[39;00m \u001b[39mworkshop\u001b[39;00m\u001b[39m.\u001b[39;00m\u001b[39mclient\u001b[39;00m\u001b[39m.\u001b[39;00m\u001b[39mutils\u001b[39;00m \u001b[39mimport\u001b[39;00m set_initial_params\n\u001b[1;32m      8\u001b[0m \u001b[39mfrom\u001b[39;00m \u001b[39mtyping\u001b[39;00m \u001b[39mimport\u001b[39;00m List\n",
      "\u001b[0;31mModuleNotFoundError\u001b[0m: No module named 'workshop'"
     ]
    }
   ],
   "source": [
    "from sklearn.linear_model import LinearRegression\n",
    "import numpy as np\n",
    "import flwr as fl\n",
    "from sklearn.datasets import fetch_california_housing\n",
    "from workshop.client.client import partition\n",
    "from workshop.client.utils import set_initial_params\n",
    "\n",
    "from typing import List\n",
    "\n",
    "\n",
    "class CaliforniaHousingClient(fl.client.NumPyClient):\n",
    "    def __init__(self, partition_id: int):\n",
    "        self.data = None\n",
    "        self.target = None\n",
    "        self.model = LinearRegression()\n",
    "        set_initial_params(self.model)\n",
    "\n",
    "        X, y = fetch_california_housing(return_X_y=True)\n",
    "\n",
    "        partition_id = np.random.choice(10)\n",
    "\n",
    "        self.X_train, self.y_train = X[:15000], y[:15000]\n",
    "        self.X_test, self.y_test = X[15000:], y[15000:]\n",
    "\n",
    "        self.X_train, self.y_train = partition(\n",
    "            self.X_train, self.y_train, 10)[partition_id]\n",
    "        \n",
    "    def get_parameters(self, config) -> List:\n",
    "        \"\"\"Returns the paramters of a sklearn LinearRegression model.\"\"\"\n",
    "\n",
    "    def fit(self, parameters, config):\n",
    "        \"\"\"Refit the model locally with the central parameters and return them\"\"\"\n",
    "        updated_parameters = parameters\n",
    "        num_examples = 0\n",
    "        metrics = {} # Won't be used in this example, we can return it empty\n",
    "\n",
    "        return updated_parameters, num_examples, metrics\n"
   ]
  },
  {
   "attachments": {},
   "cell_type": "markdown",
   "metadata": {},
   "source": []
  },
  {
   "cell_type": "code",
   "execution_count": null,
   "metadata": {},
   "outputs": [],
   "source": []
  },
  {
   "cell_type": "markdown",
   "metadata": {},
   "source": []
  }
 ],
 "metadata": {
  "kernelspec": {
   "display_name": "venv",
   "language": "python",
   "name": "python3"
  },
  "language_info": {
   "codemirror_mode": {
    "name": "ipython",
    "version": 3
   },
   "file_extension": ".py",
   "mimetype": "text/x-python",
   "name": "python",
   "nbconvert_exporter": "python",
   "pygments_lexer": "ipython3",
   "version": "3.9.12"
  }
 },
 "nbformat": 4,
 "nbformat_minor": 2
}
